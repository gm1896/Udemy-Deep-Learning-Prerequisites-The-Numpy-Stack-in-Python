{
 "cells": [
  {
   "cell_type": "markdown",
   "metadata": {},
   "source": [
    "# Gaussian PDF "
   ]
  },
  {
   "cell_type": "code",
   "execution_count": 1,
   "metadata": {},
   "outputs": [],
   "source": [
    "from scipy.stats import norm"
   ]
  },
  {
   "cell_type": "code",
   "execution_count": 2,
   "metadata": {},
   "outputs": [
    {
     "data": {
      "text/plain": [
       "0.3989422804014327"
      ]
     },
     "execution_count": 2,
     "metadata": {},
     "output_type": "execute_result"
    }
   ],
   "source": [
    "norm.pdf(0)"
   ]
  },
  {
   "cell_type": "code",
   "execution_count": 3,
   "metadata": {},
   "outputs": [
    {
     "data": {
      "text/plain": [
       "0.03520653267642995"
      ]
     },
     "execution_count": 3,
     "metadata": {},
     "output_type": "execute_result"
    }
   ],
   "source": [
    "norm.pdf(0,loc=5,scale=10)"
   ]
  },
  {
   "cell_type": "code",
   "execution_count": 4,
   "metadata": {},
   "outputs": [],
   "source": [
    "import numpy as np"
   ]
  },
  {
   "cell_type": "code",
   "execution_count": 5,
   "metadata": {},
   "outputs": [],
   "source": [
    "r = np.random.random(10)"
   ]
  },
  {
   "cell_type": "code",
   "execution_count": 6,
   "metadata": {},
   "outputs": [
    {
     "data": {
      "text/plain": [
       "array([0.37804185, 0.28312006, 0.39605806, 0.37142168, 0.3094636 ,\n",
       "       0.33302159, 0.26893259, 0.25724415, 0.32135336, 0.3671604 ])"
      ]
     },
     "execution_count": 6,
     "metadata": {},
     "output_type": "execute_result"
    }
   ],
   "source": [
    "norm.pdf(r)"
   ]
  },
  {
   "cell_type": "code",
   "execution_count": 7,
   "metadata": {},
   "outputs": [
    {
     "data": {
      "text/plain": [
       "array([-0.97275038, -1.26188423, -0.92619446, -0.99041726, -1.17291481,\n",
       "       -1.09954795, -1.31329453, -1.35772965, -1.13521394, -1.00195647])"
      ]
     },
     "execution_count": 7,
     "metadata": {},
     "output_type": "execute_result"
    }
   ],
   "source": [
    "norm.logpdf(r)"
   ]
  },
  {
   "cell_type": "code",
   "execution_count": 8,
   "metadata": {},
   "outputs": [
    {
     "data": {
      "text/plain": [
       "array([0.62856704, 0.7962173 , 0.54794266, 0.64732079, 0.76198674,\n",
       "       0.72608495, 0.81275506, 0.82556763, 0.74463003, 0.65817042])"
      ]
     },
     "execution_count": 8,
     "metadata": {},
     "output_type": "execute_result"
    }
   ],
   "source": [
    "norm.cdf(r)"
   ]
  },
  {
   "cell_type": "code",
   "execution_count": 9,
   "metadata": {},
   "outputs": [
    {
     "data": {
      "text/plain": [
       "array([-0.46431259, -0.22788314, -0.60158463, -0.4349133 , -0.27182613,\n",
       "       -0.32008826, -0.20732549, -0.19168409, -0.29486779, -0.41829138])"
      ]
     },
     "execution_count": 9,
     "metadata": {},
     "output_type": "execute_result"
    }
   ],
   "source": [
    "norm.logcdf(r)"
   ]
  },
  {
   "cell_type": "markdown",
   "metadata": {},
   "source": [
    "# Sampling from Gaussain Distribution 1-D"
   ]
  },
  {
   "cell_type": "code",
   "execution_count": 15,
   "metadata": {},
   "outputs": [],
   "source": [
    "r = np.random.randn(10000)"
   ]
  },
  {
   "cell_type": "code",
   "execution_count": 18,
   "metadata": {},
   "outputs": [],
   "source": [
    "import matplotlib.pyplot as plt"
   ]
  },
  {
   "cell_type": "code",
   "execution_count": 20,
   "metadata": {},
   "outputs": [
    {
     "data": {
      "text/plain": [
       "(array([  1.,   0.,   5.,   1.,   2.,   3.,   5.,   1.,   6.,   6.,   7.,\n",
       "          8.,   7.,   7.,  18.,  16.,  26.,  31.,  29.,  39.,  38.,  55.,\n",
       "         69.,  58.,  82.,  76.,  86., 101.,  99., 116., 120., 147., 170.,\n",
       "        171., 175., 171., 184., 223., 214., 235., 227., 238., 239., 283.,\n",
       "        290., 362., 288., 267., 259., 294., 305., 255., 275., 241., 273.,\n",
       "        229., 228., 196., 204., 209., 186., 182., 165., 150., 139., 152.,\n",
       "        102., 113.,  88.,  92.,  92.,  81.,  71.,  63.,  41.,  48.,  36.,\n",
       "         40.,  23.,  25.,  19.,  25.,  18.,  10.,  14.,   8.,  12.,   7.,\n",
       "          5.,   3.,   5.,   4.,   1.,   0.,   4.,   1.,   1.,   1.,   1.,\n",
       "          2.]),\n",
       " array([-3.41773097, -3.34711957, -3.27650817, -3.20589677, -3.13528537,\n",
       "        -3.06467397, -2.99406257, -2.92345117, -2.85283977, -2.78222837,\n",
       "        -2.71161697, -2.64100557, -2.57039417, -2.49978277, -2.42917137,\n",
       "        -2.35855997, -2.28794856, -2.21733716, -2.14672576, -2.07611436,\n",
       "        -2.00550296, -1.93489156, -1.86428016, -1.79366876, -1.72305736,\n",
       "        -1.65244596, -1.58183456, -1.51122316, -1.44061176, -1.37000036,\n",
       "        -1.29938896, -1.22877756, -1.15816616, -1.08755476, -1.01694336,\n",
       "        -0.94633196, -0.87572056, -0.80510916, -0.73449776, -0.66388636,\n",
       "        -0.59327496, -0.52266356, -0.45205216, -0.38144076, -0.31082936,\n",
       "        -0.24021796, -0.16960656, -0.09899516, -0.02838376,  0.04222764,\n",
       "         0.11283904,  0.18345044,  0.25406184,  0.32467324,  0.39528464,\n",
       "         0.46589604,  0.53650744,  0.60711884,  0.67773024,  0.74834164,\n",
       "         0.81895304,  0.88956444,  0.96017584,  1.03078724,  1.10139864,\n",
       "         1.17201004,  1.24262144,  1.31323284,  1.38384424,  1.45445564,\n",
       "         1.52506705,  1.59567845,  1.66628985,  1.73690125,  1.80751265,\n",
       "         1.87812405,  1.94873545,  2.01934685,  2.08995825,  2.16056965,\n",
       "         2.23118105,  2.30179245,  2.37240385,  2.44301525,  2.51362665,\n",
       "         2.58423805,  2.65484945,  2.72546085,  2.79607225,  2.86668365,\n",
       "         2.93729505,  3.00790645,  3.07851785,  3.14912925,  3.21974065,\n",
       "         3.29035205,  3.36096345,  3.43157485,  3.50218625,  3.57279765,\n",
       "         3.64340905]),\n",
       " <a list of 100 Patch objects>)"
      ]
     },
     "execution_count": 20,
     "metadata": {},
     "output_type": "execute_result"
    },
    {
     "data": {
      "image/png": "[encoded data removed]",
      "text/plain": [
       "<Figure size 432x288 with 1 Axes>"
      ]
     },
     "metadata": {},
     "output_type": "display_data"
    }
   ],
   "source": [
    "plt.hist(r,bins=100)"
   ]
  },
  {
   "cell_type": "code",
   "execution_count": 21,
   "metadata": {},
   "outputs": [],
   "source": [
    "r = 10*np.random.randn(10000) + 5"
   ]
  },
  {
   "cell_type": "code",
   "execution_count": 22,
   "metadata": {},
   "outputs": [
    {
     "data": {
      "text/plain": [
       "(array([  1.,   2.,   1.,   2.,   2.,   2.,   1.,   7.,   5.,   2.,   6.,\n",
       "          8.,   8.,  19.,  19.,  22.,  28.,  21.,  27.,  47.,  39.,  52.,\n",
       "         47.,  62.,  65.,  70., 104.,  97., 107., 134., 122., 166., 152.,\n",
       "        158., 187., 172., 202., 203., 215., 267., 257., 263., 263., 291.,\n",
       "        271., 324., 316., 253., 261., 278., 292., 275., 269., 265., 236.,\n",
       "        266., 242., 213., 216., 191., 212., 175., 148., 133., 123., 159.,\n",
       "        134., 106.,  77.,  83.,  71.,  76.,  76.,  46.,  34.,  50.,  33.,\n",
       "         32.,  21.,  16.,  11.,   9.,  12.,  12.,   7.,  12.,   8.,   5.,\n",
       "          5.,   4.,   1.,   4.,   4.,   2.,   2.,   1.,   1.,   0.,   1.,\n",
       "          1.]),\n",
       " array([-2.95367488e+01, -2.88155750e+01, -2.80944012e+01, -2.73732274e+01,\n",
       "        -2.66520536e+01, -2.59308798e+01, -2.52097060e+01, -2.44885322e+01,\n",
       "        -2.37673584e+01, -2.30461846e+01, -2.23250108e+01, -2.16038370e+01,\n",
       "        -2.08826631e+01, -2.01614893e+01, -1.94403155e+01, -1.87191417e+01,\n",
       "        -1.79979679e+01, -1.72767941e+01, -1.65556203e+01, -1.58344465e+01,\n",
       "        -1.51132727e+01, -1.43920989e+01, -1.36709251e+01, -1.29497513e+01,\n",
       "        -1.22285775e+01, -1.15074037e+01, -1.07862299e+01, -1.00650561e+01,\n",
       "        -9.34388229e+00, -8.62270849e+00, -7.90153468e+00, -7.18036088e+00,\n",
       "        -6.45918708e+00, -5.73801327e+00, -5.01683947e+00, -4.29566566e+00,\n",
       "        -3.57449186e+00, -2.85331806e+00, -2.13214425e+00, -1.41097045e+00,\n",
       "        -6.89796646e-01,  3.13771573e-02,  7.52550961e-01,  1.47372476e+00,\n",
       "         2.19489857e+00,  2.91607237e+00,  3.63724618e+00,  4.35841998e+00,\n",
       "         5.07959378e+00,  5.80076759e+00,  6.52194139e+00,  7.24311519e+00,\n",
       "         7.96428900e+00,  8.68546280e+00,  9.40663660e+00,  1.01278104e+01,\n",
       "         1.08489842e+01,  1.15701580e+01,  1.22913318e+01,  1.30125056e+01,\n",
       "         1.37336794e+01,  1.44548532e+01,  1.51760270e+01,  1.58972008e+01,\n",
       "         1.66183746e+01,  1.73395484e+01,  1.80607222e+01,  1.87818961e+01,\n",
       "         1.95030699e+01,  2.02242437e+01,  2.09454175e+01,  2.16665913e+01,\n",
       "         2.23877651e+01,  2.31089389e+01,  2.38301127e+01,  2.45512865e+01,\n",
       "         2.52724603e+01,  2.59936341e+01,  2.67148079e+01,  2.74359817e+01,\n",
       "         2.81571555e+01,  2.88783293e+01,  2.95995031e+01,  3.03206769e+01,\n",
       "         3.10418507e+01,  3.17630245e+01,  3.24841983e+01,  3.32053721e+01,\n",
       "         3.39265459e+01,  3.46477197e+01,  3.53688935e+01,  3.60900673e+01,\n",
       "         3.68112411e+01,  3.75324149e+01,  3.82535888e+01,  3.89747626e+01,\n",
       "         3.96959364e+01,  4.04171102e+01,  4.11382840e+01,  4.18594578e+01,\n",
       "         4.25806316e+01]),\n",
       " <a list of 100 Patch objects>)"
      ]
     },
     "execution_count": 22,
     "metadata": {},
     "output_type": "execute_result"
    },
    {
     "data": {
      "image/png": "[encoded data removed]",
      "text/plain": [
       "<Figure size 432x288 with 1 Axes>"
      ]
     },
     "metadata": {},
     "output_type": "display_data"
    }
   ],
   "source": [
    "plt.hist(r,bins=100)"
   ]
  },
  {
   "cell_type": "markdown",
   "metadata": {},
   "source": [
    "# Sampling from a Gaussian Distribution (Spherical and Axis-aligned Elliptical)"
   ]
  },
  {
   "cell_type": "code",
   "execution_count": 23,
   "metadata": {},
   "outputs": [],
   "source": [
    "r = np.random.randn(10000,2)"
   ]
  },
  {
   "cell_type": "code",
   "execution_count": 25,
   "metadata": {},
   "outputs": [
    {
     "data": {
      "text/plain": [
       "<matplotlib.collections.PathCollection at 0x1d2ba5d34a8>"
      ]
     },
     "execution_count": 25,
     "metadata": {},
     "output_type": "execute_result"
    },
    {
     "data": {
      "image/png": "[encoded data removed]",
      "text/plain": [
       "<Figure size 432x288 with 1 Axes>"
      ]
     },
     "metadata": {},
     "output_type": "display_data"
    }
   ],
   "source": [
    "plt.scatter(r[:,0],r[:,1])"
   ]
  },
  {
   "cell_type": "code",
   "execution_count": 26,
   "metadata": {},
   "outputs": [],
   "source": [
    "r[:,1] = 5*r[:,1] + 2"
   ]
  },
  {
   "cell_type": "code",
   "execution_count": 27,
   "metadata": {},
   "outputs": [
    {
     "data": {
      "text/plain": [
       "<matplotlib.collections.PathCollection at 0x1d2ba63b5c0>"
      ]
     },
     "execution_count": 27,
     "metadata": {},
     "output_type": "execute_result"
    },
    {
     "data": {
      "image/png": "[encoded data removed]",
      "text/plain": [
       "<Figure size 432x288 with 1 Axes>"
      ]
     },
     "metadata": {},
     "output_type": "display_data"
    }
   ],
   "source": [
    "plt.scatter(r[:,0],r[:,1])"
   ]
  },
  {
   "cell_type": "code",
   "execution_count": 28,
   "metadata": {},
   "outputs": [
    {
     "data": {
      "text/plain": [
       "<matplotlib.collections.PathCollection at 0x1d2ba69d8d0>"
      ]
     },
     "execution_count": 28,
     "metadata": {},
     "output_type": "execute_result"
    },
    {
     "data": {
      "image/png": "[encoded data removed]",
      "text/plain": [
       "<Figure size 432x288 with 1 Axes>"
      ]
     },
     "metadata": {},
     "output_type": "display_data"
    }
   ],
   "source": [
    "r[:,1] = 5*r[:,1] + 2\n",
    "plt.axis('equal')\n",
    "plt.scatter(r[:,0],r[:,1])"
   ]
  },
  {
   "cell_type": "markdown",
   "metadata": {},
   "source": [
    "# Sampling from a General Multivariate Normal"
   ]
  },
  {
   "cell_type": "code",
   "execution_count": 31,
   "metadata": {},
   "outputs": [
    {
     "data": {
      "text/plain": [
       "<matplotlib.collections.PathCollection at 0x1d2bb8329e8>"
      ]
     },
     "execution_count": 31,
     "metadata": {},
     "output_type": "execute_result"
    },
    {
     "data": {
      "image/png": "[encoded data removed]",
      "text/plain": [
       "<Figure size 432x288 with 1 Axes>"
      ]
     },
     "metadata": {},
     "output_type": "display_data"
    }
   ],
   "source": [
    "cov = np.array([[1,0.8],[0.8,3]])\n",
    "from scipy.stats import multivariate_normal as mvn\n",
    "mu = np.array([0,2])\n",
    "r =mvn.rvs(mean =mu, cov=cov, size=1000)\n",
    "plt.axis('equal')\n",
    "plt.scatter(r[:,0],r[:,1])"
   ]
  },
  {
   "cell_type": "code",
   "execution_count": 32,
   "metadata": {},
   "outputs": [
    {
     "data": {
      "text/plain": [
       "<matplotlib.collections.PathCollection at 0x1d2bb8905c0>"
      ]
     },
     "execution_count": 32,
     "metadata": {},
     "output_type": "execute_result"
    },
    {
     "data": {
      "image/png": "[encoded data removed]",
      "text/plain": [
       "<Figure size 432x288 with 1 Axes>"
      ]
     },
     "metadata": {},
     "output_type": "display_data"
    }
   ],
   "source": [
    "r = np.random.multivariate_normal(mean=mu,cov=cov,size=1000)\n",
    "plt.axis('equal')\n",
    "plt.scatter(r[:,0],r[:,1])"
   ]
  }
 ],
 "metadata": {
  "kernelspec": {
   "display_name": "Python 3",
   "language": "python",
   "name": "python3"
  },
  "language_info": {
   "codemirror_mode": {
    "name": "ipython",
    "version": 3
   },
   "file_extension": ".py",
   "mimetype": "text/x-python",
   "name": "python",
   "nbconvert_exporter": "python",
   "pygments_lexer": "ipython3",
   "version": "3.6.5"
  }
 },
 "nbformat": 4,
 "nbformat_minor": 2
}
